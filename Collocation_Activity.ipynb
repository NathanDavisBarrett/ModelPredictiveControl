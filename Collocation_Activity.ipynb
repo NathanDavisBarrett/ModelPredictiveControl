{
  "cells": [
    {
      "cell_type": "markdown",
      "metadata": {
        "id": "j5WwAKL8Br8T"
      },
      "source": [
        "## Orthogonal Collocation on Finite Elements\n",
        "\n",
        "Discretization of a continuous time representation allow large-scale nonlinear programming (NLP) solvers to find solutions at specified intervals in a time horizon. There are many names and related techniques for obtaining mathematical relationships between derivatives and non-derivative values. Some of the terms that are relevant to this discussion include orthogonal collocation on finite elements, direct transcription, Gauss pseudospectral method, Gaussian quadrature, Lobatto quadrature, Radau collocation, Legendre polynomials, Chebyshev polynomials, Jacobi polynomials, Laguerre polynomials, any many more. There are many papers that discuss the details of the derivation and theory behind these methods1-5. The purpose of this section is to give a practical introduction to orthogonal collocation on finite elements with Lobatto quadrature for the numerical solution of differential algebraic equations. See the documentation on [Nodes](https://apmonitor.com/wiki/index.php/Main/OptionApmNodes) for additional details on displaying the internal nodes and the [course page on Orthogonal Collocation](https://apmonitor.com/do/index.php/Main/OrthogonalCollocation) for additional examples.\n",
        "\n",
        "<img src='https://apmonitor.com/wiki/uploads/Main/nodes.png'>"
      ]
    },
    {
      "cell_type": "markdown",
      "metadata": {
        "id": "dwhduD2GBr8V"
      },
      "source": [
        "### Solving with Gekko Automated Collocation\n",
        "\n",
        "Solve the equation with NODES=4 at time points [0,1,2,3]:\n",
        "\n",
        "$\\frac{dy}{dt}=-y$\n",
        "\n",
        "with initial condition $y_0=5$. Show the internal node solutions."
      ]
    },
    {
      "cell_type": "code",
      "execution_count": 5,
      "metadata": {
        "id": "pZT9s2l4Br8W"
      },
      "outputs": [],
      "source": [
        "import pyomo.environ as pyo\n",
        "from pyomo.dae import DerivativeVar, ContinuousSet\n",
        "\n",
        "import numpy as np\n",
        "import matplotlib.pyplot as plt"
      ]
    },
    {
      "cell_type": "code",
      "execution_count": 14,
      "metadata": {},
      "outputs": [
        {
          "data": {
            "text/plain": [
              "[<matplotlib.lines.Line2D at 0x289ee4271f0>]"
            ]
          },
          "execution_count": 14,
          "metadata": {},
          "output_type": "execute_result"
        },
        {
          "data": {
            "image/png": "[encoded data removed]",
            "text/plain": [
              "<Figure size 640x480 with 1 Axes>"
            ]
          },
          "metadata": {},
          "output_type": "display_data"
        }
      ],
      "source": [
        "model = pyo.ConcreteModel()\n",
        "model.t = ContinuousSet(bounds=(0, 3))\n",
        "\n",
        "model.y = pyo.Var(model.t)\n",
        "model.ydot = DerivativeVar(model.y, wrt=model.t)\n",
        "\n",
        "model.init_cond = pyo.Constraint(expr=model.y[0] == 5)\n",
        "\n",
        "def _ode(m, t):\n",
        "    return m.ydot[t] == -m.y[t]\n",
        "model.ode = pyo.Constraint(model.t, rule=_ode)\n",
        "\n",
        "model.obj = pyo.Objective(expr=model.y[3], sense=pyo.minimize)\n",
        "\n",
        "discretizer = pyo.TransformationFactory('dae.collocation')\n",
        "discretizer.apply_to(model, nfe=3, ncp=4, scheme='LAGRANGE-RADAU')\n",
        "\n",
        "solver = pyo.SolverFactory('ipopt')\n",
        "results = solver.solve(model, tee=False)\n",
        "\n",
        "t = np.array([t for t in model.t])\n",
        "y = np.array([pyo.value(model.y[t]) for t in model.t])\n",
        "plt.plot(t, y, marker='o')\n",
        "\n",
        "analytic_y = 5 * np.exp(-t)\n",
        "\n",
        "plt.plot(t, analytic_y, linestyle='--')\n"
      ]
    },
    {
      "cell_type": "markdown",
      "metadata": {
        "id": "jJE0-GGCBr8X"
      },
      "source": [
        "### Solving without Gekko Automated Collocation\n",
        "\n",
        "Repeat the solution with NODES=4 using Orthogonal Collocation on Finite Elements but only for the first time interval [0,1]:\n",
        "\n",
        "$\\frac{dy}{dt}=-y$\n",
        "\n",
        "with initial condition $y_0=5$. Show the node solutions.\n",
        "\n",
        "Use the matrix `NC` and collocation `time` points as shown in the APMonitor [journal article](https://www.sciencedirect.com/science/article/pii/S0098135414001306) or [preprint](https://apmonitor.com/wiki/uploads/Main/APMonitor_2014.pdf).\n",
        "\n",
        "```python\n",
        "import numpy as np\n",
        "\n",
        "N = np.array([[0.436,-0.281, 0.121], \\\n",
        "              [0.614, 0.064, 0.0461], \\\n",
        "              [0.603, 0.230, 0.167]])\n",
        "\n",
        "time = np.array([0.0, \\\n",
        "                 0.5-np.sqrt(5)/10.0, \\\n",
        "                 0.5+np.sqrt(5)/10.0, \\\n",
        "                 1.0])\n",
        "```\n",
        "\n",
        "#### Reference\n",
        "\n",
        "* Hedengren, J. D. and Asgharzadeh Shishavan, R., Powell, K.M., and Edgar, T.F., Nonlinear Modeling, Estimation and Predictive Control in APMonitor, Computers and Chemical Engineering, Volume 70, pg. 133–148, 2014, doi: 10.1016/j.compchemeng.2014.04.013"
      ]
    },
    {
      "cell_type": "markdown",
      "metadata": {},
      "source": [
        "# MY NOTES:"
      ]
    },
    {
      "cell_type": "markdown",
      "metadata": {},
      "source": [
        "We have $x_0$ given as the initial condition.\n",
        "\n",
        "We then have three points at which $x_i$ and $\\dot{x}_i$ is not known.\n",
        "\n",
        "There should be some way to relate the derivative at each point as it relates to each non-derivative.\n",
        "\n",
        "$$\\begin{bmatrix}\\dot{x}_1 \\\\ \\dot{x}_2 \\\\ \\dot{x}_3\\end{bmatrix} = M \\left(\\begin{bmatrix}x_1 \\\\ x_2 \\\\ x_3\\end{bmatrix} - \\begin{bmatrix}x_0 \\\\ x_0 \\\\ x_0\\end{bmatrix} \\right)$$"
      ]
    },
    {
      "cell_type": "markdown",
      "metadata": {},
      "source": [
        "We then seek to approximate the solution as a polynomial. Since there are three unknown points and we already know the initial condition, this would be a third-order polynomial\n",
        "\n",
        "$$x(t) = A + Bt + Ct^2 + Dt^3$$\n",
        "\n",
        "Which is easy to find the derivative of:\n",
        "\n",
        "$$\\dot{x}(t) = B + 2Ct + 3Dt^2$$"
      ]
    },
    {
      "cell_type": "markdown",
      "metadata": {},
      "source": [
        "Subbing these back into the matrix equation, we get this:\n",
        "\n",
        "$$\\begin{bmatrix} B + 2Ct_1 + 3Dt_1^2 \\\\ B + 2Ct_2 + 3Dt_2^2 \\\\ B + 2Ct_3 + 3Dt_3^2 \\end{bmatrix} = M \\left( \\begin{bmatrix} A + Bt_1 + Ct_1^2 + Dt_1^3 \\\\ A + Bt_2 + Ct_2^2 + Dt_2^3 \\\\ A + Bt_3 + Ct_3^3 + Dt_3^3  \\end{bmatrix} - \\begin{bmatrix} A + Bt_0 + Ct_0^2 + Dt_0^3 \\\\ A + Bt_0 + Ct_0^2 + Dt_0^3 \\\\ A + Bt_0 + Ct_0^3 + Dt_0^3  \\end{bmatrix} \\right)$$"
      ]
    },
    {
      "cell_type": "markdown",
      "metadata": {},
      "source": [
        "Arbitrarily defining $t_0 = 0$, we get the following.\n",
        "\n",
        "$$\\begin{bmatrix} B + 2Ct_1 + 3Dt_1^2 \\\\ B + 2Ct_2 + 3Dt_2^2 \\\\ B + 2Ct_3 + 3Dt_3^2 \\end{bmatrix} = M \\begin{bmatrix} Bt_1 + Ct_1^2 + Dt_1^3 \\\\ Bt_2 + Ct_2^2 + Dt_2^3 \\\\ Bt_3 + Ct_3^3 + Dt_3^3  \\end{bmatrix} $$"
      ]
    },
    {
      "cell_type": "markdown",
      "metadata": {},
      "source": [
        "Which can then be simplified.\n",
        "\n",
        "$$\\begin{bmatrix} 1 & 2t_1 & 3t_1^2 \\\\ 1 & 2t_2 & 3t_2^2 \\\\ 1 & 2t_3 & 3t_3^2 \\end{bmatrix} \\begin{bmatrix}B \\\\ C \\\\ D \\end{bmatrix} = M \\begin{bmatrix} t_1 & t_1^2 & t_1^3 \\\\ t_2 & t_2^2 & t_2^3 \\\\ t_3 & t_3^3 & t_3^3  \\end{bmatrix}  \\begin{bmatrix}B \\\\ C \\\\ D \\end{bmatrix}$$"
      ]
    },
    {
      "cell_type": "markdown",
      "metadata": {},
      "source": [
        "Which can then be simplified.\n",
        "\n",
        "$$\\begin{bmatrix} 1 & 2t_1 & 3t_1^2 \\\\ 1 & 2t_2 & 3t_2^2 \\\\ 1 & 2t_3 & 3t_3^2 \\end{bmatrix} = M \\begin{bmatrix} t_1 & t_1^2 & t_1^3 \\\\ t_2 & t_2^2 & t_2^3 \\\\ t_3 & t_3^3 & t_3^3  \\end{bmatrix}$$\n",
        "\n",
        "Given $t_1$, $t_2$, and $t_3$, we can then solve this equation to find the appropriate $M$ matrix to use. Note that this will be appropriate regardless of what the actual values of $B$, $C$, and $D$ are.\n",
        "\n",
        "Let's go ahead and find $M$ for this problem."
      ]
    },
    {
      "cell_type": "code",
      "execution_count": 17,
      "metadata": {},
      "outputs": [
        {
          "name": "stdout",
          "output_type": "stream",
          "text": [
            "M =\n",
            "[[-1.5  3.  -0.5]\n",
            " [-3.   1.5  1. ]\n",
            " [ 4.5 -9.   5.5]]\n"
          ]
        }
      ],
      "source": [
        "t = np.linspace(0, 1, 4)\n",
        "\n",
        "LHS = np.array([[1, 2*t[1], 3*t[1]**2],\n",
        "                [1, 2*t[2], 3*t[2]**2],\n",
        "                [1, 2*t[3], 3*t[3]**2]])\n",
        "\n",
        "RHS = np.array([[t[1], t[1]**2, t[1]**3],\n",
        "                [t[2], t[2]**2, t[2]**3],\n",
        "                [t[3], t[3]**2, t[3]**3]])\n",
        "\n",
        "M = LHS @ np.linalg.inv(RHS)\n",
        "\n",
        "print(\"M =\")\n",
        "print(M)"
      ]
    },
    {
      "cell_type": "markdown",
      "metadata": {},
      "source": [
        "Now we want to actually solve the problem.\n",
        "\n",
        "We have 6 unknowns: $x_1, x_2, x_3, \\dot{x}_1, \\dot{x}_2, \\dot{x}_3$\n",
        "\n",
        "By this point we have 3 equations (with our known $M$ and $x_0$)\n",
        "\n",
        "$$\\begin{bmatrix}\\dot{x}_1 \\\\ \\dot{x}_2 \\\\ \\dot{x}_3\\end{bmatrix} = M \\left(\\begin{bmatrix}x_1 \\\\ x_2 \\\\ x_3\\end{bmatrix} - \\begin{bmatrix}x_0 \\\\ x_0 \\\\ x_0\\end{bmatrix} \\right)$$"
      ]
    },
    {
      "cell_type": "markdown",
      "metadata": {},
      "source": [
        "We need 3 more equations.\n",
        "\n",
        "From the original ODE, we have $\\dot{x}_i = -x_i$\n",
        "\n",
        "Which gives us our other three equations."
      ]
    },
    {
      "cell_type": "code",
      "execution_count": 11,
      "metadata": {},
      "outputs": [],
      "source": [
        "from scipy.optimize import fsolve"
      ]
    },
    {
      "cell_type": "code",
      "execution_count": 19,
      "metadata": {},
      "outputs": [
        {
          "name": "stdout",
          "output_type": "stream",
          "text": [
            "x1, x2, x3, dx1, dx2, dx3 =\n",
            "[ 3.59223301  2.57281553  1.84466019 -3.59223301 -2.57281553 -1.84466019]\n"
          ]
        },
        {
          "data": {
            "text/plain": [
              "<matplotlib.legend.Legend at 0x289ee5caa40>"
            ]
          },
          "execution_count": 19,
          "metadata": {},
          "output_type": "execute_result"
        },
        {
          "data": {
            "image/png": "[encoded data removed]",
            "text/plain": [
              "<Figure size 640x480 with 1 Axes>"
            ]
          },
          "metadata": {},
          "output_type": "display_data"
        }
      ],
      "source": [
        "x0 = 5\n",
        "\n",
        "def SolveMe(vars):\n",
        "    x1, x2, x3, dx1, dx2, dx3 = vars\n",
        "\n",
        "    # I could write this in matrix form, but it's probably clearer like this\n",
        "\n",
        "    eq1 = dx1 - (M[0,0]*(x1-x0) + M[0,1]*(x2-x0) + M[0,2]*(x3-x0))\n",
        "    eq2 = dx2 - (M[1,0]*(x1-x0) + M[1,1]*(x2-x0) + M[1,2]*(x3-x0))\n",
        "    eq3 = dx3 - (M[2,0]*(x1-x0) + M[2,1]*(x2-x0) + M[2,2]*(x3-x0))\n",
        "    eq4 = dx1 + x1\n",
        "    eq5 = dx2 + x2\n",
        "    eq6 = dx3 + x3\n",
        "\n",
        "    return [eq1, eq2, eq3, eq4, eq5, eq6]\n",
        "\n",
        "ans = fsolve(SolveMe, [4, 3, 2, -4, -3, -2])\n",
        "print(\"x1, x2, x3, dx1, dx2, dx3 =\")\n",
        "print(ans)\n",
        "\n",
        "x = np.array([x0, ans[0], ans[1], ans[2]])\n",
        "\n",
        "plt.plot(t, x, marker='x', label='Collocation Solution')\n",
        "\n",
        "fine_t = np.linspace(0, 1, 100)\n",
        "analytic_y = 5 * np.exp(-fine_t)\n",
        "plt.plot(fine_t, analytic_y, linestyle='--', label='Analytic Solution')\n",
        "plt.legend()"
      ]
    }
  ],
  "metadata": {
    "colab": {
      "provenance": []
    },
    "kernelspec": {
      "display_name": "NathansUC",
      "language": "python",
      "name": "python3"
    },
    "language_info": {
      "codemirror_mode": {
        "name": "ipython",
        "version": 3
      },
      "file_extension": ".py",
      "mimetype": "text/x-python",
      "name": "python",
      "nbconvert_exporter": "python",
      "pygments_lexer": "ipython3",
      "version": "3.10.12"
    }
  },
  "nbformat": 4,
  "nbformat_minor": 0
}
