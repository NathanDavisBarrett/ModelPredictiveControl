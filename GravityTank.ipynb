{
 "cells": [
  {
   "cell_type": "code",
   "execution_count": 1,
   "id": "33d48cd8",
   "metadata": {},
   "outputs": [],
   "source": [
    "import pyomo.environ as pyo\n",
    "from pyomo.dae import DerivativeVar, ContinuousSet\n",
    "\n",
    "import numpy as np\n",
    "import matplotlib.pyplot as plt"
   ]
  },
  {
   "cell_type": "markdown",
   "id": "35566f20",
   "metadata": {},
   "source": [
    "$$\\dot{V}^{IN}(t) = c_1 VALVE(t)$$\n",
    "$$\\dot{V}^{OUT}(t) = c_2 \\sqrt{V(t)}$$\n",
    "$$\\frac{dV}{dt} = \\dot{V}^{IN}(t) - \\dot{V}^{OUT}(t)$$"
   ]
  }
 ],
 "metadata": {
  "kernelspec": {
   "display_name": "NathansUC",
   "language": "python",
   "name": "python3"
  },
  "language_info": {
   "codemirror_mode": {
    "name": "ipython",
    "version": 3
   },
   "file_extension": ".py",
   "mimetype": "text/x-python",
   "name": "python",
   "nbconvert_exporter": "python",
   "pygments_lexer": "ipython3",
   "version": "3.10.12"
  }
 },
 "nbformat": 4,
 "nbformat_minor": 5
}
