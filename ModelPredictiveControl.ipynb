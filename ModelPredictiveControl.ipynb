{
 "cells": [
  {
   "cell_type": "markdown",
   "id": "790248ee",
   "metadata": {},
   "source": [
    "$$\\min_p ||y_t - y||_n$$\n",
    "$$s.t.$$\n",
    "$$0 = f\\left(\\frac{dx}{dt},x,y,p\\right)$$\n",
    "$$0 \\leq g\\left(\\frac{dx}{dt},x,y,p\\right)$$\n",
    "\n",
    "Here, $y$ is the system output at point $t$, $y_t$ is the target output.\n",
    "\n",
    "$x$ is an internal system variable, and $p$ is a controllable input to the system."
   ]
  },
  {
   "cell_type": "markdown",
   "id": "a199fc9f",
   "metadata": {},
   "source": [
    "![](MPCdiagram.png)"
   ]
  },
  {
   "cell_type": "markdown",
   "id": "de842e06",
   "metadata": {},
   "source": [
    "# FIRST ORDER MODEL\n",
    "$$\\tau \\frac{dy}{dt} = -(y - y^{REF}) + K (p - p^{REF})$$"
   ]
  }
 ],
 "metadata": {
  "kernelspec": {
   "display_name": "NathansUC",
   "language": "python",
   "name": "python3"
  },
  "language_info": {
   "name": "python",
   "version": "3.10.12"
  }
 },
 "nbformat": 4,
 "nbformat_minor": 5
}
